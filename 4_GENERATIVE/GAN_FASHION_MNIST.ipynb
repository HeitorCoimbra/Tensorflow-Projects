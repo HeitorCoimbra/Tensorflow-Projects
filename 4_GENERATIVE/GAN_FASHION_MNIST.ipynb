{
 "cells": [
  {
   "cell_type": "code",
   "execution_count": 2,
   "metadata": {
    "colab": {
     "base_uri": "https://localhost:8080/",
     "height": 193
    },
    "colab_type": "code",
    "id": "4p5A62fe4ywX",
    "outputId": "d15419ff-cd6a-4d27-aaa7-c86ecb6e749d"
   },
   "outputs": [],
   "source": [
    "import tensorflow as tf \n",
    "\n",
    "from IPython import display\n",
    "import matplotlib.pyplot as plt\n",
    "import numpy as np\n",
    "import random\n",
    "import os\n",
    "import PIL\n",
    "import time\n",
    "import glob\n",
    "import imageio"
   ]
  },
  {
   "cell_type": "code",
   "execution_count": 3,
   "metadata": {
    "scrolled": true
   },
   "outputs": [
    {
     "data": {
      "text/plain": [
       "'\\n    FIX:\\n        Mode collapse is still a huge problem here. Using MSE as the loss function makes it happen less often, but\\n        makes the quality of the generated samples not as crisp as Binary Crossentropy\\n'"
      ]
     },
     "execution_count": 3,
     "metadata": {},
     "output_type": "execute_result"
    }
   ],
   "source": [
    "'''\n",
    "    FIX:\n",
    "        Mode collapse is still a huge problem here. Using MSE as the loss function makes it happen less often, but\n",
    "        makes the quality of the generated samples not as crisp as Binary Crossentropy\n",
    "'''"
   ]
  },
  {
   "cell_type": "code",
   "execution_count": 5,
   "metadata": {
    "colab": {},
    "colab_type": "code",
    "id": "i-nnyaUYDgWg"
   },
   "outputs": [
    {
     "name": "stdout",
     "output_type": "stream",
     "text": [
      "Downloading data from https://storage.googleapis.com/tensorflow/tf-keras-datasets/train-labels-idx1-ubyte.gz\n",
      "32768/29515 [=================================] - 0s 3us/step\n",
      "Downloading data from https://storage.googleapis.com/tensorflow/tf-keras-datasets/train-images-idx3-ubyte.gz\n",
      "26427392/26421880 [==============================] - 33s 1us/step\n",
      "Downloading data from https://storage.googleapis.com/tensorflow/tf-keras-datasets/t10k-labels-idx1-ubyte.gz\n",
      "8192/5148 [===============================================] - 0s 0us/step\n",
      "Downloading data from https://storage.googleapis.com/tensorflow/tf-keras-datasets/t10k-images-idx3-ubyte.gz\n",
      "4423680/4422102 [==============================] - 5s 1us/step\n"
     ]
    }
   ],
   "source": [
    "mnist = tf.keras.datasets.fashion_mnist\n",
    "(train_images, _), (_, _) = mnist.load_data()\n",
    "train_images = (np.expand_dims(train_images, axis=-1)/255.).astype(np.float32)"
   ]
  },
  {
   "cell_type": "code",
   "execution_count": 6,
   "metadata": {
    "colab": {
     "base_uri": "https://localhost:8080/",
     "height": 34
    },
    "colab_type": "code",
    "id": "0XBBba0maxQ-",
    "outputId": "ee29cff1-8857-4396-d761-1ab618052de7"
   },
   "outputs": [
    {
     "data": {
      "text/plain": [
       "<BatchDataset shapes: (None, 28, 28, 1), types: tf.float32>"
      ]
     },
     "execution_count": 6,
     "metadata": {},
     "output_type": "execute_result"
    }
   ],
   "source": [
    "# Batch and shuffle the data\n",
    "EPOCHS = 50\n",
    "BUFFER_SIZE = 6000\n",
    "BATCH_SIZE = 60\n",
    "train_dataset = tf.data.Dataset.from_tensor_slices(train_images).shuffle(BUFFER_SIZE).batch(60)\n",
    "train_dataset"
   ]
  },
  {
   "cell_type": "code",
   "execution_count": 7,
   "metadata": {
    "colab": {},
    "colab_type": "code",
    "id": "6guv3xng5Rdu"
   },
   "outputs": [],
   "source": [
    "def build_gen_model():\n",
    "    model = tf.keras.Sequential([\n",
    "                               tf.keras.layers.Dense(7*7*256, use_bias=False, input_shape=(100, )),\n",
    "                               tf.keras.layers.BatchNormalization(),\n",
    "                               tf.keras.layers.LeakyReLU(),\n",
    "\n",
    "                               tf.keras.layers.Reshape((7, 7, 256)),\n",
    "\n",
    "                               tf.keras.layers.Conv2DTranspose(128, (5, 5), padding='same', use_bias=False),\n",
    "                               tf.keras.layers.BatchNormalization(),\n",
    "                               tf.keras.layers.LeakyReLU(),\n",
    "\n",
    "                               tf.keras.layers.Conv2DTranspose(64, (5, 5), strides=(2, 2), padding='same', use_bias=False),\n",
    "                               tf.keras.layers.BatchNormalization(),\n",
    "                               tf.keras.layers.LeakyReLU(),\n",
    "\n",
    "                               tf.keras.layers.Conv2DTranspose(1, (5, 5), strides=(2, 2), padding='same', use_bias=False, activation='tanh')\n",
    "  ])\n",
    "    assert model.output_shape == (None, 28, 28, 1)\n",
    "    return model"
   ]
  },
  {
   "cell_type": "code",
   "execution_count": 8,
   "metadata": {
    "colab": {
     "base_uri": "https://localhost:8080/",
     "height": 282
    },
    "colab_type": "code",
    "id": "n--t5tQtJ0p-",
    "outputId": "7055f2ed-00ad-4084-8360-dfb332b0ceca"
   },
   "outputs": [
    {
     "data": {
      "text/plain": [
       "<matplotlib.image.AxesImage at 0x1f44716be48>"
      ]
     },
     "execution_count": 8,
     "metadata": {},
     "output_type": "execute_result"
    },
    {
     "data": {
      "image/png": "[encoded data removed]",
      "text/plain": [
       "<Figure size 432x288 with 1 Axes>"
      ]
     },
     "metadata": {
      "needs_background": "light"
     },
     "output_type": "display_data"
    }
   ],
   "source": [
    "gen = build_gen_model()\n",
    "\n",
    "im = gen(tf.random.normal([1,100]), training=False)\n",
    "plt.imshow(np.squeeze(im), cmap='gray')"
   ]
  },
  {
   "cell_type": "code",
   "execution_count": 9,
   "metadata": {
    "colab": {},
    "colab_type": "code",
    "id": "l8Dyy6eyRBEZ"
   },
   "outputs": [],
   "source": [
    "def build_disc_model():\n",
    "    model = tf.keras.Sequential([\n",
    "                               tf.keras.layers.Conv2D(64, (5, 5), strides=(2, 2), padding='same', input_shape = (28, 28, 1)),\n",
    "                               tf.keras.layers.LeakyReLU(),\n",
    "                               tf.keras.layers.Dropout(0.3),\n",
    "\n",
    "                               tf.keras.layers.Conv2D(128, (5, 5), strides=(2, 2), padding='same'),\n",
    "                               tf.keras.layers.LeakyReLU(),\n",
    "                               tf.keras.layers.Dropout(0.3),\n",
    "\n",
    "                               tf.keras.layers.Flatten(),\n",
    "                               tf.keras.layers.Dense(1, activation=tf.keras.activations.sigmoid)\n",
    "\n",
    "                               ])\n",
    "    return model"
   ]
  },
  {
   "cell_type": "code",
   "execution_count": 10,
   "metadata": {
    "colab": {
     "base_uri": "https://localhost:8080/",
     "height": 34
    },
    "colab_type": "code",
    "id": "-EyY8Se1VcAJ",
    "outputId": "69e90568-92f2-45b6-b2de-a9882107dcb2"
   },
   "outputs": [
    {
     "name": "stdout",
     "output_type": "stream",
     "text": [
      "0.49988034\n"
     ]
    }
   ],
   "source": [
    "disc = build_disc_model()\n",
    "print(np.squeeze(disc(im, training=False)))\n"
   ]
  },
  {
   "cell_type": "code",
   "execution_count": 22,
   "metadata": {
    "colab": {},
    "colab_type": "code",
    "id": "dKYLFp8AVt16"
   },
   "outputs": [],
   "source": [
    "loss = tf.keras.losses.binary_crossentropy\n",
    "#loss = tf.keras.losses.mse\n",
    "\n",
    "def discriminator_loss(real_output, fake_output):\n",
    "    real_loss = loss(real_output, tf.ones_like(real_output))\n",
    "    fake_loss = loss(fake_output, tf.zeros_like(fake_output))\n",
    "    return fake_loss + real_loss\n"
   ]
  },
  {
   "cell_type": "code",
   "execution_count": 23,
   "metadata": {
    "colab": {},
    "colab_type": "code",
    "id": "JePMtcfzW12T"
   },
   "outputs": [],
   "source": [
    "def generator_loss(fake_output):\n",
    "    return loss(tf.ones_like(fake_output), fake_output)"
   ]
  },
  {
   "cell_type": "code",
   "execution_count": 24,
   "metadata": {
    "colab": {},
    "colab_type": "code",
    "id": "_bGw4D2EW8Xx"
   },
   "outputs": [],
   "source": [
    "gen_optimizer = tf.keras.optimizers.Adam(1e-4)\n",
    "disc_optimizer = tf.keras.optimizers.Adam(1e-4)"
   ]
  },
  {
   "cell_type": "code",
   "execution_count": 25,
   "metadata": {
    "colab": {},
    "colab_type": "code",
    "id": "s3Sk9mu8ZjMp"
   },
   "outputs": [],
   "source": [
    "noise_dim = 100\n",
    "num_examples_to_generate = 16\n",
    "seed = tf.random.normal([num_examples_to_generate, noise_dim])"
   ]
  },
  {
   "cell_type": "code",
   "execution_count": 26,
   "metadata": {
    "colab": {},
    "colab_type": "code",
    "id": "XnMpGDw6d9wc"
   },
   "outputs": [],
   "source": [
    "def generate_and_save_images(model, epoch, test_input):\n",
    "    predictions = model(test_input, training=False)\n",
    "\n",
    "    fig = plt.figure(figsize=(4,4))\n",
    "\n",
    "    for i in range(predictions.shape[0]):\n",
    "        plt.subplot(4, 4, i+1)\n",
    "        plt.imshow(predictions[i, :, :, 0], cmap='gray')\n",
    "        plt.axis('off')\n",
    "    filename = 'image_at_epoch_'+str(epoch)+'.png'\n",
    "    plt.savefig(filename)\n",
    "    plt.show()"
   ]
  },
  {
   "cell_type": "code",
   "execution_count": 27,
   "metadata": {
    "colab": {},
    "colab_type": "code",
    "id": "EFMvtnhGZvlZ"
   },
   "outputs": [],
   "source": [
    "@tf.function\n",
    "def train_step(images):\n",
    "    noise = tf.random.normal([len(images), noise_dim])\n",
    "\n",
    "    with tf.GradientTape() as gen_tape, tf.GradientTape() as disc_tape:\n",
    "        generated_images = gen(noise, training=True)\n",
    "\n",
    "        real_output = disc(images, training=True)\n",
    "        fake_output = disc(generated_images, training=True)\n",
    "\n",
    "        gen_loss = generator_loss(fake_output)\n",
    "        disc_loss = discriminator_loss(real_output, fake_output)\n",
    "    gen_gradient = gen_tape.gradient(gen_loss, gen.trainable_variables)\n",
    "    disc_gradient = disc_tape.gradient(disc_loss, disc.trainable_variables)\n",
    "\n",
    "    gen_optimizer.apply_gradients(zip(gen_gradient, gen.trainable_variables))\n",
    "    disc_optimizer.apply_gradients(zip(disc_gradient, disc.trainable_variables))\n"
   ]
  },
  {
   "cell_type": "code",
   "execution_count": 28,
   "metadata": {
    "colab": {},
    "colab_type": "code",
    "id": "Dvr8G4GjaSKX"
   },
   "outputs": [],
   "source": [
    "def train(dataset, epochs):\n",
    "    for epoch in range(epochs):\n",
    "        start = time.time()\n",
    "        for image_batch in dataset:\n",
    "            train_step(image_batch)\n",
    "        display.clear_output(wait=True)\n",
    "        generate_and_save_images(gen,\n",
    "                                 epoch + 1,\n",
    "                                 seed)\n",
    "\n",
    "        print ('Time for epoch {} is {} sec'.format(epoch + 1, time.time()-start))\n",
    "\n",
    "    display.clear_output(wait=True)\n",
    "    generate_and_save_images(gen,\n",
    "                           epochs,\n",
    "                           seed)\n",
    "\n",
    "\n"
   ]
  },
  {
   "cell_type": "code",
   "execution_count": 29,
   "metadata": {
    "colab": {
     "base_uri": "https://localhost:8080/",
     "height": 266
    },
    "colab_type": "code",
    "id": "CahbTWLZd7-9",
    "outputId": "e604c67d-4cf5-4510-9ed9-9174fe3f6e96",
    "scrolled": false
   },
   "outputs": [
    {
     "data": {
      "image/png": "[encoded data removed]",
      "text/plain": [
       "<Figure size 288x288 with 16 Axes>"
      ]
     },
     "metadata": {
      "needs_background": "light"
     },
     "output_type": "display_data"
    }
   ],
   "source": [
    "train(train_dataset, EPOCHS)"
   ]
  },
  {
   "cell_type": "code",
   "execution_count": 30,
   "metadata": {
    "colab": {},
    "colab_type": "code",
    "id": "nYgPhYnAhOyG"
   },
   "outputs": [],
   "source": [
    "def display_image(epoch_no):\n",
    "    return PIL.Image.open('image_at_epoch_'+str(epoch_no)+'.png')"
   ]
  },
  {
   "cell_type": "code",
   "execution_count": 31,
   "metadata": {
    "colab": {
     "base_uri": "https://localhost:8080/",
     "height": 314
    },
    "colab_type": "code",
    "id": "ax2DaybOhPR_",
    "outputId": "5002b04d-d103-4a8a-9c0e-ecf5826d5ab7",
    "scrolled": false
   },
   "outputs": [
    {
     "data": {
      "image/png": "[encoded data removed]",
      "text/plain": [
       "<PIL.PngImagePlugin.PngImageFile image mode=RGBA size=288x288 at 0x1F44E251898>"
      ]
     },
     "execution_count": 31,
     "metadata": {},
     "output_type": "execute_result"
    }
   ],
   "source": [
    "display_image(1)"
   ]
  },
  {
   "cell_type": "code",
   "execution_count": 32,
   "metadata": {
    "colab": {},
    "colab_type": "code",
    "id": "gEgLSf5mhRSW"
   },
   "outputs": [],
   "source": [
    "anim_file = 'dcgan.gif'\n",
    "\n",
    "with imageio.get_writer(anim_file, mode='I') as writer:\n",
    "    filenames = glob.glob('image*.png')\n",
    "    filenames = sorted(filenames)\n",
    "    last = -1\n",
    "    for i, filename in enumerate(filenames):\n",
    "        frame = 2*(i**0.5)\n",
    "        if round(frame) > round(last):\n",
    "            last = frame\n",
    "        else:\n",
    "            continue\n",
    "        image = imageio.imread(filename)\n",
    "        writer.append_data(image)\n",
    "    image = imageio.imread(filename)\n",
    "    writer.append_data(image)\n",
    "\n",
    "import IPython\n",
    "if IPython.version_info > (6,2,0,''):\n",
    "    display.Image(filename=anim_file)"
   ]
  }
 ],
 "metadata": {
  "colab": {
   "collapsed_sections": [],
   "name": "5. GAN_MNIST.ipynb",
   "provenance": []
  },
  "kernelspec": {
   "display_name": "Python 3",
   "language": "python",
   "name": "python3"
  },
  "language_info": {
   "codemirror_mode": {
    "name": "ipython",
    "version": 3
   },
   "file_extension": ".py",
   "mimetype": "text/x-python",
   "name": "python",
   "nbconvert_exporter": "python",
   "pygments_lexer": "ipython3",
   "version": "3.7.3"
  }
 },
 "nbformat": 4,
 "nbformat_minor": 1
}
